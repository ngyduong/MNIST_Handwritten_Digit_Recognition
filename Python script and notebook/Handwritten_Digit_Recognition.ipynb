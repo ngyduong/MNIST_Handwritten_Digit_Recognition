{
 "cells": [
  {
   "cell_type": "markdown",
   "metadata": {},
   "source": [
    "## Import and load data "
   ]
  },
  {
   "cell_type": "code",
   "execution_count": 122,
   "metadata": {},
   "outputs": [],
   "source": [
    "from keras.datasets import mnist"
   ]
  },
  {
   "cell_type": "code",
   "execution_count": 123,
   "metadata": {},
   "outputs": [],
   "source": [
    "(x_train, y_train), (x_test, y_test) = mnist.load_data(path='/Users/ngyduong/anaconda3/envs/DeepLearning/lib/python3.7/site-packages/keras/datasets/mnist.npz')"
   ]
  },
  {
   "cell_type": "markdown",
   "metadata": {},
   "source": [
    "## Import packages"
   ]
  },
  {
   "cell_type": "code",
   "execution_count": 124,
   "metadata": {},
   "outputs": [],
   "source": [
    "import pandas as pd\n",
    "import numpy as np\n",
    "import matplotlib\n",
    "import matplotlib.pyplot as plt\n",
    "import os\n",
    "\n",
    "from keras.models import Sequential, load_model\n",
    "from keras.layers.core import Dense, Dropout, Activation\n",
    "from keras.utils import np_utils"
   ]
  },
  {
   "cell_type": "markdown",
   "metadata": {},
   "source": [
    "### Set working directory"
   ]
  },
  {
   "cell_type": "code",
   "execution_count": 125,
   "metadata": {},
   "outputs": [],
   "source": [
    "os.chdir(\"/Users/ngyduong/Documents/Machine Learning/Deep Learning/MNIST_Handwritten_Digit_Recognition\")"
   ]
  },
  {
   "cell_type": "markdown",
   "metadata": {},
   "source": [
    "# Visualising the data"
   ]
  },
  {
   "cell_type": "markdown",
   "metadata": {},
   "source": [
    "## Some informations about the data"
   ]
  },
  {
   "cell_type": "raw",
   "metadata": {},
   "source": [
    "Here we are in a situation of supervised machine learning (deep learning) therefore there is 4 subsets of the original data set."
   ]
  },
  {
   "cell_type": "code",
   "execution_count": 126,
   "metadata": {
    "scrolled": false
   },
   "outputs": [
    {
     "name": "stdout",
     "output_type": "stream",
     "text": [
      "x_train shape : (60000, 28, 28)\n",
      "y_train shape : (60000,)\n",
      "x_test shape : (10000, 28, 28)\n",
      "y_test shape : (10000,)\n"
     ]
    }
   ],
   "source": [
    "print('x_train shape :', x_train.shape)\n",
    "print('y_train shape :', y_train.shape)\n",
    "print('x_test shape :', x_test.shape)\n",
    "print('y_test shape :', y_test.shape)"
   ]
  },
  {
   "cell_type": "raw",
   "metadata": {},
   "source": [
    "There is first the x_train data set which is only the input of the training data set of length 60000 in which each \"observation\" is an image transformed into a 28x28 pixel matrix."
   ]
  },
  {
   "cell_type": "markdown",
   "metadata": {},
   "source": [
    "Then we have the y_train data set which is only the label for each of the images in the x_train data set."
   ]
  },
  {
   "cell_type": "markdown",
   "metadata": {},
   "source": [
    "The same logic applies to the x_test and y_test data sets but with only 10000 observations."
   ]
  },
  {
   "cell_type": "markdown",
   "metadata": {},
   "source": [
    "## Plotting the data"
   ]
  },
  {
   "cell_type": "raw",
   "metadata": {},
   "source": [
    "Here, we will look at the six first observations from the training datasets (x_train and y_train). "
   ]
  },
  {
   "cell_type": "code",
   "execution_count": 127,
   "metadata": {
    "scrolled": false
   },
   "outputs": [
    {
     "data": {
      "image/png": "[encoded data removed]",
      "text/plain": [
       "<Figure size 432x288 with 6 Axes>"
      ]
     },
     "metadata": {},
     "output_type": "display_data"
    }
   ],
   "source": [
    "for i in range(6):\n",
    "    plt.subplot(2,3,i+1) # we create 6 empty subplots \n",
    "    plt.imshow(x_train[i], cmap = 'gray') \n",
    "    plt.xticks([]) # remove x scales\n",
    "    plt.yticks([]) # remove y scales\n",
    "    plt.title(\"Digit: {}\".format(y_train[i])) # Give titles to each subplots  "
   ]
  },
  {
   "cell_type": "code",
   "execution_count": 128,
   "metadata": {
    "scrolled": false
   },
   "outputs": [
    {
     "data": {
      "text/plain": [
       "Text(0.5, 1.0, 'Pixel Value Distribution')"
      ]
     },
     "execution_count": 128,
     "metadata": {},
     "output_type": "execute_result"
    },
    {
     "data": {
      "image/png": "[encoded data removed]",
      "text/plain": [
       "<Figure size 432x288 with 2 Axes>"
      ]
     },
     "metadata": {
      "needs_background": "light"
     },
     "output_type": "display_data"
    }
   ],
   "source": [
    "plt.subplot(2,1,1) # create 1st subplot with index 1\n",
    "plt.imshow(x_train[0], cmap='gray')\n",
    "plt.title('Digits: {}'.format(y_train[0]))\n",
    "plt.xticks([])\n",
    "plt.yticks([])\n",
    "plt.subplot(2,1,2) # create 2nd subplot with index 1\n",
    "plt.hist(x_train[0].reshape(784)) # 28x28 = 784 \n",
    "plt.title('Pixel Value Distribution')"
   ]
  },
  {
   "cell_type": "raw",
   "metadata": {},
   "source": [
    "We have to know that for each image the higher the number of an array means that the whiter (or simply more activate) the pixel is. \n",
    "Which is why we can see with this given histogram that most of the array are of value around 0 (the background) and only a few around 250 (the actual digit number)."
   ]
  },
  {
   "cell_type": "markdown",
   "metadata": {},
   "source": [
    "## Transform the data"
   ]
  },
  {
   "cell_type": "markdown",
   "metadata": {},
   "source": [
    "### Transform x_train and x_test"
   ]
  },
  {
   "cell_type": "raw",
   "metadata": {},
   "source": [
    "Since the x_train and x_test are composed of only 28x28 pixel matrix we need to transform the data by reshaping it in order for the it to be usable in neural network algorithm. "
   ]
  },
  {
   "cell_type": "code",
   "execution_count": 129,
   "metadata": {},
   "outputs": [],
   "source": [
    "x_train = x_train.reshape(60000, 784).astype('float32')\n",
    "x_test = x_test.reshape(10000, 784).astype('float32')"
   ]
  },
  {
   "cell_type": "raw",
   "metadata": {},
   "source": [
    "Now we have x_train and y_train data sets as arrays of vectors for each image and not 28x28 pixel matrix anymore. We will now normalize the data by dividing it into the max RGB."
   ]
  },
  {
   "cell_type": "code",
   "execution_count": 130,
   "metadata": {},
   "outputs": [],
   "source": [
    "x_train /= max(x_train[0])\n",
    "x_test /= max(x_test[0])"
   ]
  },
  {
   "cell_type": "code",
   "execution_count": 131,
   "metadata": {},
   "outputs": [
    {
     "name": "stdout",
     "output_type": "stream",
     "text": [
      "New x_train shape : (60000, 784)\n",
      "New x_test shape : (10000, 784)\n"
     ]
    }
   ],
   "source": [
    "print('New x_train shape :', x_train.shape)\n",
    "print('New x_test shape :', x_test.shape)"
   ]
  },
  {
   "cell_type": "raw",
   "metadata": {},
   "source": [
    "As you can see now we have 60000 and 10000 arrays in which each \"observation\" is a vector of length 784 representing the 784 pixels."
   ]
  },
  {
   "cell_type": "markdown",
   "metadata": {},
   "source": [
    "### Transform y_train and y_test"
   ]
  },
  {
   "cell_type": "raw",
   "metadata": {},
   "source": [
    "We need to transform the values in the y_train and y_test data sets into categorical variables."
   ]
  },
  {
   "cell_type": "code",
   "execution_count": 132,
   "metadata": {},
   "outputs": [],
   "source": [
    "Y_train = pd.get_dummies(y_train, \"digit\", \"_\")\n",
    "Y_test = pd.get_dummies(y_test, \"digit\", \"_\")"
   ]
  },
  {
   "cell_type": "code",
   "execution_count": 133,
   "metadata": {},
   "outputs": [
    {
     "name": "stdout",
     "output_type": "stream",
     "text": [
      "New Y_train shape : (60000,)\n",
      "New Y_test shape : (10000,)\n"
     ]
    }
   ],
   "source": [
    "print('New Y_train shape :', y_train.shape)\n",
    "print('New Y_test shape :', y_test.shape)"
   ]
  },
  {
   "cell_type": "markdown",
   "metadata": {},
   "source": [
    "## Building the network"
   ]
  },
  {
   "cell_type": "code",
   "execution_count": 134,
   "metadata": {},
   "outputs": [],
   "source": [
    "model = Sequential()\n",
    "\n",
    "# First hidden layers of 512 node\n",
    "model.add(Dense(512, input_shape=(784,)))\n",
    "model.add(Activation('relu')) # Rectified Linear Unit : max(x,0)\n",
    "model.add(Dropout(0.2)) # 20% chance to set an activation node to 0 \n",
    "\n",
    "# Second hidden layers of 512 node\n",
    "model.add(Dense(512))\n",
    "model.add(Activation('relu')) \n",
    "model.add(Dropout(0.2))\n",
    "\n",
    "# Final visible layer with the 10 categorical variables from 0 to 9\n",
    "model.add(Dense(10)) \n",
    "model.add(Activation('softmax')) "
   ]
  },
  {
   "cell_type": "markdown",
   "metadata": {},
   "source": [
    "## Training the model"
   ]
  },
  {
   "cell_type": "markdown",
   "metadata": {},
   "source": [
    "### Compiling the sequential model"
   ]
  },
  {
   "cell_type": "code",
   "execution_count": 135,
   "metadata": {},
   "outputs": [],
   "source": [
    "model.compile(loss = 'categorical_crossentropy', \n",
    "              metrics = ['accuracy'], optimizer = 'adam')"
   ]
  },
  {
   "cell_type": "markdown",
   "metadata": {},
   "source": [
    "### Fit the model"
   ]
  },
  {
   "cell_type": "code",
   "execution_count": 138,
   "metadata": {},
   "outputs": [
    {
     "name": "stdout",
     "output_type": "stream",
     "text": [
      "Train on 60000 samples, validate on 10000 samples\n",
      "Epoch 1/10\n",
      " - 8s - loss: 0.2378 - accuracy: 0.9278 - val_loss: 0.1046 - val_accuracy: 0.9674\n",
      "Epoch 2/10\n",
      " - 8s - loss: 0.0989 - accuracy: 0.9697 - val_loss: 0.0790 - val_accuracy: 0.9752\n",
      "Epoch 3/10\n",
      " - 11s - loss: 0.0721 - accuracy: 0.9777 - val_loss: 0.0783 - val_accuracy: 0.9771\n",
      "Epoch 4/10\n",
      " - 9s - loss: 0.0553 - accuracy: 0.9827 - val_loss: 0.0670 - val_accuracy: 0.9794\n",
      "Epoch 5/10\n",
      " - 9s - loss: 0.0467 - accuracy: 0.9841 - val_loss: 0.0601 - val_accuracy: 0.9823\n",
      "Epoch 6/10\n",
      " - 8s - loss: 0.0395 - accuracy: 0.9871 - val_loss: 0.0672 - val_accuracy: 0.9804\n",
      "Epoch 7/10\n",
      " - 9s - loss: 0.0344 - accuracy: 0.9884 - val_loss: 0.0819 - val_accuracy: 0.9782\n",
      "Epoch 8/10\n",
      " - 9s - loss: 0.0312 - accuracy: 0.9901 - val_loss: 0.0896 - val_accuracy: 0.9770\n",
      "Epoch 9/10\n",
      " - 10s - loss: 0.0294 - accuracy: 0.9900 - val_loss: 0.0826 - val_accuracy: 0.9808\n",
      "Epoch 10/10\n",
      " - 8s - loss: 0.0274 - accuracy: 0.9909 - val_loss: 0.0803 - val_accuracy: 0.9808\n"
     ]
    }
   ],
   "source": [
    "model_fit = model.fit(x_train, Y_train, \n",
    "                      batch_size = 100, # number of samples for one update to the model weights\n",
    "                      epochs = 10, # number of iteration\n",
    "                      verbose = 2, validation_data = (x_test, Y_test))"
   ]
  },
  {
   "cell_type": "markdown",
   "metadata": {},
   "source": [
    "### Plotting the metrics"
   ]
  },
  {
   "cell_type": "code",
   "execution_count": 139,
   "metadata": {},
   "outputs": [
    {
     "data": {
      "text/plain": [
       "<matplotlib.legend.Legend at 0x14062e320>"
      ]
     },
     "execution_count": 139,
     "metadata": {},
     "output_type": "execute_result"
    },
    {
     "data": {
      "image/png": "[encoded data removed]",
      "text/plain": [
       "<Figure size 432x288 with 2 Axes>"
      ]
     },
     "metadata": {
      "needs_background": "light"
     },
     "output_type": "display_data"
    }
   ],
   "source": [
    "plt.subplot(2,1,1)\n",
    "plt.plot(model_fit.history['accuracy'])\n",
    "plt.plot(model_fit.history['val_accuracy'])\n",
    "plt.title('model accuracy')\n",
    "plt.xlabel('epoch / number of iteration')\n",
    "plt.ylabel('accuracy')\n",
    "plt.legend(['train','test'], loc='lower right')\n",
    "\n",
    "plt.subplot(2,1,2)\n",
    "plt.plot(model_fit.history['loss'])\n",
    "plt.plot(model_fit.history['val_loss'])\n",
    "plt.title('model loss')\n",
    "plt.xlabel('epoch / number of iteration')\n",
    "plt.ylabel('loss')\n",
    "plt.legend(['train','test'], loc='upper right')"
   ]
  },
  {
   "cell_type": "markdown",
   "metadata": {},
   "source": [
    "### Save the model "
   ]
  },
  {
   "cell_type": "code",
   "execution_count": 140,
   "metadata": {},
   "outputs": [],
   "source": [
    "model.save(os.path.join(os.getcwd(),'mnist_model.h5'))"
   ]
  },
  {
   "cell_type": "markdown",
   "metadata": {},
   "source": [
    "## Evaluate model performance"
   ]
  },
  {
   "cell_type": "markdown",
   "metadata": {},
   "source": [
    "### Load the model"
   ]
  },
  {
   "cell_type": "code",
   "execution_count": 141,
   "metadata": {},
   "outputs": [],
   "source": [
    "mnist_model = load_model('mnist_model.h5')"
   ]
  },
  {
   "cell_type": "markdown",
   "metadata": {},
   "source": [
    "### Get the loss and accuracy"
   ]
  },
  {
   "cell_type": "code",
   "execution_count": 143,
   "metadata": {},
   "outputs": [
    {
     "name": "stdout",
     "output_type": "stream",
     "text": [
      "The test loss is 0.08026687926339682\n",
      "The test accuracy is 0.9807999730110168\n"
     ]
    }
   ],
   "source": [
    "loss_and_metrics = mnist_model.evaluate(x_test, Y_test, \n",
    "                                        verbose=2)\n",
    "\n",
    "print(\"The test loss is {}\".format(loss_and_metrics[0]))\n",
    "print(\"The test accuracy is {}\".format(loss_and_metrics[1]))"
   ]
  },
  {
   "cell_type": "markdown",
   "metadata": {},
   "source": [
    "### Evaluate the correct and incorrect classification examples"
   ]
  },
  {
   "cell_type": "code",
   "execution_count": 144,
   "metadata": {
    "scrolled": true
   },
   "outputs": [
    {
     "name": "stdout",
     "output_type": "stream",
     "text": [
      "classified correctly 9808\n",
      "classified incorrectly 192\n"
     ]
    }
   ],
   "source": [
    "predicted_classes = mnist_model.predict_classes(x_test)\n",
    "\n",
    "correct_indices = np.nonzero(predicted_classes == y_test)[0]\n",
    "incorrect_indices = np.nonzero(predicted_classes != y_test)[0]\n",
    "\n",
    "print('classified correctly {}'.format(len(correct_indices)))\n",
    "print('classified incorrectly {}'.format(len(incorrect_indices)))\n"
   ]
  },
  {
   "cell_type": "markdown",
   "metadata": {},
   "source": [
    "### Plot 9 correct prediction"
   ]
  },
  {
   "cell_type": "code",
   "execution_count": 145,
   "metadata": {},
   "outputs": [
    {
     "data": {
      "image/png": "[encoded data removed]",
      "text/plain": [
       "<Figure size 432x288 with 9 Axes>"
      ]
     },
     "metadata": {},
     "output_type": "display_data"
    }
   ],
   "source": [
    "for i, correct in enumerate(correct_indices[:9]):\n",
    "    plt.subplot(3,3,i+1)\n",
    "    plt.subplots_adjust(wspace = 2)\n",
    "    plt.imshow(x_test[correct].reshape(28,28), cmap = 'gray')\n",
    "    plt.title(\"Predicted : {}, Truth: {}\".format(predicted_classes[correct],\n",
    "                                                 y_test[correct]))\n",
    "    plt.xticks([])\n",
    "    plt.yticks([])"
   ]
  },
  {
   "cell_type": "code",
   "execution_count": 146,
   "metadata": {},
   "outputs": [],
   "source": [
    "### Plot 9 incorrect prediction"
   ]
  },
  {
   "cell_type": "code",
   "execution_count": 147,
   "metadata": {},
   "outputs": [
    {
     "data": {
      "image/png": "[encoded data removed]",
      "text/plain": [
       "<Figure size 432x288 with 9 Axes>"
      ]
     },
     "metadata": {},
     "output_type": "display_data"
    }
   ],
   "source": [
    "for j, incorrect in enumerate(incorrect_indices[:9]):\n",
    "    plt.subplot(3,3,j+1)\n",
    "    plt.subplots_adjust(wspace = 2)\n",
    "    plt.imshow(x_test[incorrect].reshape(28,28), cmap = 'gray')\n",
    "    plt.title(\"Predicted : {}, Truth: {}\".format(predicted_classes[incorrect],\n",
    "                                                 y_test[incorrect]))\n",
    "    plt.xticks([])\n",
    "    plt.yticks([])"
   ]
  }
 ],
 "metadata": {
  "kernelspec": {
   "display_name": "DeepLearning",
   "language": "python",
   "name": "deeplearning"
  },
  "language_info": {
   "codemirror_mode": {
    "name": "ipython",
    "version": 3
   },
   "file_extension": ".py",
   "mimetype": "text/x-python",
   "name": "python",
   "nbconvert_exporter": "python",
   "pygments_lexer": "ipython3",
   "version": "3.7.3"
  }
 },
 "nbformat": 4,
 "nbformat_minor": 2
}
